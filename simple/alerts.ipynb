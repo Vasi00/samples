{
 "cells": [
  {
   "cell_type": "code",
   "execution_count": 1,
   "metadata": {},
   "outputs": [],
   "source": [
    "import numpy as np\n",
    "from labml import tracker, experiment, lab, monit\n",
    "\n",
    "lab.configure({\n",
    "    'web_api': 'https://api.lab-ml.com/api/v1/track?labml_token=YOUR_LABML_TOEKN&channel=YOUR_SLACK_CHANNEL',\n",
    "})"
   ]
  },
  {
   "cell_type": "code",
   "execution_count": 2,
   "metadata": {},
   "outputs": [],
   "source": [
    "configs = {\n",
    "    'fs': 100000,  # sample rate\n",
    "    'f': 1,  # the frequency of the signal\n",
    "}\n",
    "\n",
    "x = np.arange(configs['fs'])\n",
    "y = np.sin(2 * np.pi * configs['f'] * (x / configs['fs']))"
   ]
  },
  {
   "cell_type": "code",
   "execution_count": 3,
   "metadata": {},
   "outputs": [
    {
     "data": {
      "application/vnd.jupyter.widget-view+json": {
       "model_id": "3f3e61a7dbfb4a04abc294687f518613",
       "version_major": 2,
       "version_minor": 0
      },
      "text/plain": [
       "HTML(value='<pre  ></pre>')"
      ]
     },
     "metadata": {},
     "output_type": "display_data"
    }
   ],
   "source": [
    "experiment.create(name='sin_wave')\n",
    "experiment.configs(configs)\n",
    "experiment.start()"
   ]
  },
  {
   "cell_type": "code",
   "execution_count": 4,
   "metadata": {},
   "outputs": [
    {
     "data": {
      "application/vnd.jupyter.widget-view+json": {
       "model_id": "be4ae94075eb41419ba5a858ffb0f631",
       "version_major": 2,
       "version_minor": 0
      },
      "text/plain": [
       "HTML(value='<pre  ><strong><span style=\"color: #DDB62B\">       0:  </span></strong> loss: <strong>0.000000</st…"
      ]
     },
     "metadata": {},
     "output_type": "display_data"
    }
   ],
   "source": [
    "for i in monit.loop(len(y)):\n",
    "    tracker.save({'loss': y[i], 'noisy': y[i] + np.random.normal(0, 10, 100)})"
   ]
  }
 ],
 "metadata": {
  "kernelspec": {
   "display_name": "dl3",
   "language": "python",
   "name": "dl3"
  },
  "language_info": {
   "codemirror_mode": {
    "name": "ipython",
    "version": 3
   },
   "file_extension": ".py",
   "mimetype": "text/x-python",
   "name": "python",
   "nbconvert_exporter": "python",
   "pygments_lexer": "ipython3",
   "version": "3.7.5"
  }
 },
 "nbformat": 4,
 "nbformat_minor": 2
}
