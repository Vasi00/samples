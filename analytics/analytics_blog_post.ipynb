{
 "cells": [
  {
   "cell_type": "code",
   "execution_count": 1,
   "metadata": {
    "pycharm": {
     "is_executing": false
    }
   },
   "outputs": [
    {
     "data": {
      "text/plain": [
       "['model_conv1_bias',\n",
       " 'model_conv1_bias_grad',\n",
       " 'model_conv1_weight',\n",
       " 'model_conv1_weight_grad',\n",
       " 'model_conv2_bias',\n",
       " 'model_conv2_bias_grad',\n",
       " 'model_conv2_weight',\n",
       " 'model_conv2_weight_grad',\n",
       " 'model_fc1_bias',\n",
       " 'model_fc1_bias_grad',\n",
       " 'model_fc1_weight',\n",
       " 'model_fc1_weight_grad',\n",
       " 'model_fc2_bias',\n",
       " 'model_fc2_bias_grad',\n",
       " 'model_fc2_weight',\n",
       " 'model_fc2_weight_grad',\n",
       " 'train_loss',\n",
       " 'valid_accuracy',\n",
       " 'valid_loss']"
      ]
     },
     "execution_count": 1,
     "metadata": {},
     "output_type": "execute_result"
    }
   ],
   "source": [
    "from labml import analytics\n",
    "\n",
    "inds = analytics.runs('a0ed84e49cac11eab945f218981c2492')\n",
    "\n",
    "analytics.set_preferred_db('tensorboard')\n",
    "dir(inds)"
   ]
  },
  {
   "cell_type": "code",
   "execution_count": 2,
   "metadata": {
    "scrolled": false
   },
   "outputs": [
    {
     "name": "stdout",
     "output_type": "stream",
     "text": [
      "[array([[1.8106544, 2.8106544, 1.       ]]), array([[0.89793664, 1.03132789, 1.        ],\n",
      "       [1.03132789, 1.16471913, 0.        ],\n",
      "       [1.16471913, 1.29811037, 1.        ],\n",
      "       [1.29811037, 1.43150162, 0.        ],\n",
      "       [1.43150162, 1.56489286, 0.        ],\n",
      "       [1.56489286, 1.6982841 , 1.        ],\n",
      "       [1.6982841 , 1.83167534, 1.        ],\n",
      "       [1.83167534, 1.96506659, 0.        ],\n",
      "       [1.96506659, 2.09845783, 1.        ],\n",
      "       [2.09845783, 2.23184907, 1.        ],\n",
      "       [2.23184907, 2.36524032, 3.        ],\n",
      "       [2.36524032, 2.49863156, 1.        ],\n",
      "       [2.49863156, 2.6320228 , 0.        ],\n",
      "       [2.6320228 , 2.76541405, 0.        ],\n",
      "       [2.76541405, 2.89880529, 0.        ],\n",
      "       [2.89880529, 3.03219653, 0.        ],\n",
      "       [3.03219653, 3.16558778, 0.        ],\n",
      "       [3.16558778, 3.29897902, 0.        ],\n",
      "       [3.29897902, 3.43237026, 0.        ],\n",
      "       [3.43237026, 3.56576151, 0.        ],\n",
      "       [3.56576151, 3.69915275, 0.        ],\n",
      "       [3.69915275, 3.83254399, 0.        ],\n",
      "       [3.83254399, 3.96593524, 0.        ],\n",
      "       [3.96593524, 4.09932648, 0.        ],\n",
      "       [4.09932648, 4.23271772, 0.        ],\n",
      "       [4.23271772, 4.36610897, 0.        ],\n",
      "       [4.36610897, 4.49950021, 0.        ],\n",
      "       [4.49950021, 4.63289145, 0.        ],\n",
      "       [4.63289145, 4.7662827 , 0.        ],\n",
      "       [4.7662827 , 4.89967394, 1.        ]]), array([[0.48515114, 0.6323019 , 1.        ],\n",
      "       [0.6323019 , 0.77945266, 2.        ],\n",
      "       [0.77945266, 0.92660342, 3.        ],\n",
      "       [0.92660342, 1.07375418, 3.        ],\n",
      "       [1.07375418, 1.22090494, 2.        ],\n",
      "       [1.22090494, 1.3680557 , 1.        ],\n",
      "       [1.3680557 , 1.51520646, 0.        ],\n",
      "       [1.51520646, 1.66235722, 1.        ],\n",
      "       [1.66235722, 1.80950798, 1.        ],\n",
      "       [1.80950798, 1.95665874, 0.        ],\n",
      "       [1.95665874, 2.1038095 , 1.        ],\n",
      "       [2.1038095 , 2.25096026, 1.        ],\n",
      "       [2.25096026, 2.39811102, 2.        ],\n",
      "       [2.39811102, 2.54526178, 1.        ],\n",
      "       [2.54526178, 2.69241254, 0.        ],\n",
      "       [2.69241254, 2.8395633 , 0.        ],\n",
      "       [2.8395633 , 2.98671406, 0.        ],\n",
      "       [2.98671406, 3.13386482, 0.        ],\n",
      "       [3.13386482, 3.28101558, 0.        ],\n",
      "       [3.28101558, 3.42816634, 0.        ],\n",
      "       [3.42816634, 3.5753171 , 0.        ],\n",
      "       [3.5753171 , 3.72246786, 0.        ],\n",
      "       [3.72246786, 3.86961862, 0.        ],\n",
      "       [3.86961862, 4.01676938, 0.        ],\n",
      "       [4.01676938, 4.16392014, 0.        ],\n",
      "       [4.16392014, 4.3110709 , 0.        ],\n",
      "       [4.3110709 , 4.45822166, 0.        ],\n",
      "       [4.45822166, 4.60537242, 0.        ],\n",
      "       [4.60537242, 4.75252318, 0.        ],\n",
      "       [4.75252318, 4.89967394, 1.        ]]), array([[0.41740319, 0.44320661, 2.        ],\n",
      "       [0.44320661, 0.46901003, 1.        ],\n",
      "       [0.46901003, 0.49481345, 1.        ],\n",
      "       [0.49481345, 0.52061687, 0.        ],\n",
      "       [0.52061687, 0.54642029, 1.        ],\n",
      "       [0.54642029, 0.57222371, 2.        ],\n",
      "       [0.57222371, 0.59802713, 1.        ],\n",
      "       [0.59802713, 0.62383055, 0.        ],\n",
      "       [0.62383055, 0.64963397, 2.        ],\n",
      "       [0.64963397, 0.67543739, 0.        ],\n",
      "       [0.67543739, 0.70124081, 2.        ],\n",
      "       [0.70124081, 0.72704423, 0.        ],\n",
      "       [0.72704423, 0.75284765, 0.        ],\n",
      "       [0.75284765, 0.77865107, 0.        ],\n",
      "       [0.77865107, 0.80445449, 0.        ],\n",
      "       [0.80445449, 0.83025791, 2.        ],\n",
      "       [0.83025791, 0.85606133, 0.        ],\n",
      "       [0.85606133, 0.88186475, 0.        ],\n",
      "       [0.88186475, 0.90766817, 0.        ],\n",
      "       [0.90766817, 0.93347159, 1.        ],\n",
      "       [0.93347159, 0.95927501, 0.        ],\n",
      "       [0.95927501, 0.98507843, 1.        ],\n",
      "       [0.98507843, 1.01088185, 1.        ],\n",
      "       [1.01088185, 1.03668527, 0.        ],\n",
      "       [1.03668527, 1.06248869, 1.        ],\n",
      "       [1.06248869, 1.08829211, 0.        ],\n",
      "       [1.08829211, 1.11409553, 1.        ],\n",
      "       [1.11409553, 1.13989895, 0.        ],\n",
      "       [1.13989895, 1.16570237, 0.        ],\n",
      "       [1.16570237, 1.19150579, 1.        ]]), array([[0.23372266, 0.25698145, 1.        ],\n",
      "       [0.25698145, 0.28024025, 0.        ],\n",
      "       [0.28024025, 0.30349905, 0.        ],\n",
      "       [0.30349905, 0.32675784, 2.        ],\n",
      "       [0.32675784, 0.35001664, 1.        ],\n",
      "       [0.35001664, 0.37327543, 0.        ],\n",
      "       [0.37327543, 0.39653423, 2.        ],\n",
      "       [0.39653423, 0.41979303, 2.        ],\n",
      "       [0.41979303, 0.44305182, 1.        ],\n",
      "       [0.44305182, 0.46631062, 1.        ],\n",
      "       [0.46631062, 0.48956942, 0.        ],\n",
      "       [0.48956942, 0.51282821, 1.        ],\n",
      "       [0.51282821, 0.53608701, 0.        ],\n",
      "       [0.53608701, 0.55934581, 2.        ],\n",
      "       [0.55934581, 0.5826046 , 2.        ],\n",
      "       [0.5826046 , 0.6058634 , 1.        ],\n",
      "       [0.6058634 , 0.62912219, 1.        ],\n",
      "       [0.62912219, 0.65238099, 1.        ],\n",
      "       [0.65238099, 0.67563979, 0.        ],\n",
      "       [0.67563979, 0.69889858, 0.        ],\n",
      "       [0.69889858, 0.72215738, 1.        ],\n",
      "       [0.72215738, 0.74541618, 0.        ],\n",
      "       [0.74541618, 0.76867497, 0.        ],\n",
      "       [0.76867497, 0.79193377, 0.        ],\n",
      "       [0.79193377, 0.81519257, 0.        ],\n",
      "       [0.81519257, 0.83845136, 0.        ],\n",
      "       [0.83845136, 0.86171016, 0.        ],\n",
      "       [0.86171016, 0.88496895, 0.        ],\n",
      "       [0.88496895, 0.90822775, 0.        ],\n",
      "       [0.90822775, 0.93148655, 1.        ]])]\n"
     ]
    },
    {
     "ename": "ValueError",
     "evalue": "The truth value of an array with more than one element is ambiguous. Use a.any() or a.all()",
     "output_type": "error",
     "traceback": [
      "\u001B[0;31m---------------------------------------------------------------------------\u001B[0m",
      "\u001B[0;31mValueError\u001B[0m                                Traceback (most recent call last)",
      "\u001B[0;32m<ipython-input-2-b76aba0e34a0>\u001B[0m in \u001B[0;36m<module>\u001B[0;34m\u001B[0m\n\u001B[0;32m----> 1\u001B[0;31m \u001B[0manalytics\u001B[0m\u001B[0;34m.\u001B[0m\u001B[0mdistribution\u001B[0m\u001B[0;34m(\u001B[0m\u001B[0minds\u001B[0m\u001B[0;34m.\u001B[0m\u001B[0mtrain_loss\u001B[0m\u001B[0;34m)\u001B[0m\u001B[0;34m\u001B[0m\u001B[0;34m\u001B[0m\u001B[0m\n\u001B[0m",
      "\u001B[0;32m~/ml/lab/labml/analytics/__init__.py\u001B[0m in \u001B[0;36mdistribution\u001B[0;34m(indicators, levels, alpha, height, width, height_minimap)\u001B[0m\n\u001B[1;32m     90\u001B[0m     \u001B[0mnames\u001B[0m \u001B[0;34m=\u001B[0m \u001B[0;34m[\u001B[0m\u001B[0;34m]\u001B[0m\u001B[0;34m\u001B[0m\u001B[0;34m\u001B[0m\u001B[0m\n\u001B[1;32m     91\u001B[0m     \u001B[0;32mfor\u001B[0m \u001B[0mi\u001B[0m\u001B[0;34m,\u001B[0m \u001B[0mind\u001B[0m \u001B[0;32min\u001B[0m \u001B[0menumerate\u001B[0m\u001B[0;34m(\u001B[0m\u001B[0mindicators\u001B[0m\u001B[0;34m)\u001B[0m\u001B[0;34m:\u001B[0m\u001B[0;34m\u001B[0m\u001B[0;34m\u001B[0m\u001B[0m\n\u001B[0;32m---> 92\u001B[0;31m         \u001B[0mdatas\u001B[0m\u001B[0;34m.\u001B[0m\u001B[0mappend\u001B[0m\u001B[0;34m(\u001B[0m\u001B[0m_cache\u001B[0m\u001B[0;34m.\u001B[0m\u001B[0mget_indicator_data\u001B[0m\u001B[0;34m(\u001B[0m\u001B[0mind\u001B[0m\u001B[0;34m)\u001B[0m\u001B[0;34m)\u001B[0m\u001B[0;34m\u001B[0m\u001B[0;34m\u001B[0m\u001B[0m\n\u001B[0m\u001B[1;32m     93\u001B[0m         \u001B[0mnames\u001B[0m\u001B[0;34m.\u001B[0m\u001B[0mappend\u001B[0m\u001B[0;34m(\u001B[0m\u001B[0mind\u001B[0m\u001B[0;34m.\u001B[0m\u001B[0mkey\u001B[0m\u001B[0;34m)\u001B[0m\u001B[0;34m\u001B[0m\u001B[0;34m\u001B[0m\u001B[0m\n\u001B[1;32m     94\u001B[0m \u001B[0;34m\u001B[0m\u001B[0m\n",
      "\u001B[0;32m~/ml/lab/labml/internal/analytics/cache.py\u001B[0m in \u001B[0;36mget_indicator_data\u001B[0;34m(indicator)\u001B[0m\n\u001B[1;32m     67\u001B[0m \u001B[0;32mdef\u001B[0m \u001B[0mget_indicator_data\u001B[0m\u001B[0;34m(\u001B[0m\u001B[0mindicator\u001B[0m\u001B[0;34m:\u001B[0m \u001B[0mIndicator\u001B[0m\u001B[0;34m)\u001B[0m\u001B[0;34m:\u001B[0m\u001B[0;34m\u001B[0m\u001B[0;34m\u001B[0m\u001B[0m\n\u001B[1;32m     68\u001B[0m     \u001B[0;32mif\u001B[0m \u001B[0m_PREFERRED_DB\u001B[0m \u001B[0;34m==\u001B[0m \u001B[0;34m'tensorboard'\u001B[0m\u001B[0;34m:\u001B[0m\u001B[0;34m\u001B[0m\u001B[0;34m\u001B[0m\u001B[0m\n\u001B[0;32m---> 69\u001B[0;31m         \u001B[0mdata\u001B[0m \u001B[0;34m=\u001B[0m \u001B[0mget_tensorboard_data\u001B[0m\u001B[0;34m(\u001B[0m\u001B[0mindicator\u001B[0m\u001B[0;34m)\u001B[0m\u001B[0;34m\u001B[0m\u001B[0;34m\u001B[0m\u001B[0m\n\u001B[0m\u001B[1;32m     70\u001B[0m         \u001B[0;32mif\u001B[0m \u001B[0mdata\u001B[0m \u001B[0;32mis\u001B[0m \u001B[0;32mNone\u001B[0m\u001B[0;34m:\u001B[0m\u001B[0;34m\u001B[0m\u001B[0;34m\u001B[0m\u001B[0m\n\u001B[1;32m     71\u001B[0m             \u001B[0mdata\u001B[0m \u001B[0;34m=\u001B[0m \u001B[0mget_sqlite_data\u001B[0m\u001B[0;34m(\u001B[0m\u001B[0mindicator\u001B[0m\u001B[0;34m)\u001B[0m\u001B[0;34m\u001B[0m\u001B[0;34m\u001B[0m\u001B[0m\n",
      "\u001B[0;32m~/ml/lab/labml/internal/analytics/cache.py\u001B[0m in \u001B[0;36mget_tensorboard_data\u001B[0;34m(indicator)\u001B[0m\n\u001B[1;32m     33\u001B[0m         \u001B[0mdata\u001B[0m \u001B[0;34m=\u001B[0m \u001B[0mtb\u001B[0m\u001B[0;34m.\u001B[0m\u001B[0msummarize_compressed_histogram\u001B[0m\u001B[0;34m(\u001B[0m\u001B[0mtensor\u001B[0m\u001B[0;34m)\u001B[0m\u001B[0;34m\u001B[0m\u001B[0;34m\u001B[0m\u001B[0m\n\u001B[1;32m     34\u001B[0m     \u001B[0;32melse\u001B[0m\u001B[0;34m:\u001B[0m\u001B[0;34m\u001B[0m\u001B[0;34m\u001B[0m\u001B[0m\n\u001B[0;32m---> 35\u001B[0;31m         \u001B[0mdata\u001B[0m \u001B[0;34m=\u001B[0m \u001B[0mtb\u001B[0m\u001B[0;34m.\u001B[0m\u001B[0msummarize_scalars\u001B[0m\u001B[0;34m(\u001B[0m\u001B[0mtensor\u001B[0m\u001B[0;34m)\u001B[0m\u001B[0;34m\u001B[0m\u001B[0;34m\u001B[0m\u001B[0m\n\u001B[0m\u001B[1;32m     36\u001B[0m \u001B[0;34m\u001B[0m\u001B[0m\n\u001B[1;32m     37\u001B[0m     \u001B[0;32mreturn\u001B[0m \u001B[0mdata\u001B[0m\u001B[0;34m\u001B[0m\u001B[0;34m\u001B[0m\u001B[0m\n",
      "\u001B[0;32m~/ml/lab/labml/internal/analytics/analytics.py\u001B[0m in \u001B[0;36msummarize_scalars\u001B[0;34m(self, events, points)\u001B[0m\n\u001B[1;32m     36\u001B[0m         \u001B[0;32mfor\u001B[0m \u001B[0mi\u001B[0m\u001B[0;34m,\u001B[0m \u001B[0me\u001B[0m \u001B[0;32min\u001B[0m \u001B[0menumerate\u001B[0m\u001B[0;34m(\u001B[0m\u001B[0mevents\u001B[0m\u001B[0;34m)\u001B[0m\u001B[0;34m:\u001B[0m\u001B[0;34m\u001B[0m\u001B[0;34m\u001B[0m\u001B[0m\n\u001B[1;32m     37\u001B[0m             \u001B[0;32mif\u001B[0m \u001B[0mi\u001B[0m \u001B[0;34m>\u001B[0m \u001B[0;36m0\u001B[0m \u001B[0;32mand\u001B[0m \u001B[0;34m(\u001B[0m\u001B[0mi\u001B[0m \u001B[0;34m+\u001B[0m \u001B[0;36m1\u001B[0m\u001B[0;34m)\u001B[0m \u001B[0;34m%\u001B[0m \u001B[0minterval\u001B[0m \u001B[0;34m==\u001B[0m \u001B[0;36m0\u001B[0m\u001B[0;34m:\u001B[0m\u001B[0;34m\u001B[0m\u001B[0;34m\u001B[0m\u001B[0m\n\u001B[0;32m---> 38\u001B[0;31m                 \u001B[0mresults\u001B[0m\u001B[0;34m.\u001B[0m\u001B[0mappend\u001B[0m\u001B[0;34m(\u001B[0m\u001B[0mself\u001B[0m\u001B[0;34m.\u001B[0m\u001B[0msummarize\u001B[0m\u001B[0;34m(\u001B[0m\u001B[0mmerged\u001B[0m\u001B[0;34m)\u001B[0m\u001B[0;34m)\u001B[0m\u001B[0;34m\u001B[0m\u001B[0;34m\u001B[0m\u001B[0m\n\u001B[0m\u001B[1;32m     39\u001B[0m                 \u001B[0mmerged\u001B[0m \u001B[0;34m=\u001B[0m \u001B[0;34m[\u001B[0m\u001B[0;34m]\u001B[0m\u001B[0;34m\u001B[0m\u001B[0;34m\u001B[0m\u001B[0m\n\u001B[1;32m     40\u001B[0m             \u001B[0mmerged\u001B[0m\u001B[0;34m.\u001B[0m\u001B[0mappend\u001B[0m\u001B[0;34m(\u001B[0m\u001B[0me\u001B[0m\u001B[0;34m)\u001B[0m\u001B[0;34m\u001B[0m\u001B[0;34m\u001B[0m\u001B[0m\n",
      "\u001B[0;32m~/ml/lab/labml/internal/analytics/tensorboard.py\u001B[0m in \u001B[0;36msummarize\u001B[0;34m(self, events)\u001B[0m\n\u001B[1;32m     24\u001B[0m         \u001B[0mstep\u001B[0m \u001B[0;34m=\u001B[0m \u001B[0mnp\u001B[0m\u001B[0;34m.\u001B[0m\u001B[0mmean\u001B[0m\u001B[0;34m(\u001B[0m\u001B[0;34m[\u001B[0m\u001B[0me\u001B[0m\u001B[0;34m.\u001B[0m\u001B[0mstep\u001B[0m \u001B[0;32mfor\u001B[0m \u001B[0me\u001B[0m \u001B[0;32min\u001B[0m \u001B[0mevents\u001B[0m\u001B[0;34m]\u001B[0m\u001B[0;34m)\u001B[0m\u001B[0;34m\u001B[0m\u001B[0;34m\u001B[0m\u001B[0m\n\u001B[1;32m     25\u001B[0m         \u001B[0mprint\u001B[0m\u001B[0;34m(\u001B[0m\u001B[0;34m[\u001B[0m\u001B[0me\u001B[0m\u001B[0;34m.\u001B[0m\u001B[0mtensor\u001B[0m \u001B[0;32mfor\u001B[0m \u001B[0me\u001B[0m \u001B[0;32min\u001B[0m \u001B[0mevents\u001B[0m\u001B[0;34m]\u001B[0m\u001B[0;34m)\u001B[0m\u001B[0;34m\u001B[0m\u001B[0;34m\u001B[0m\u001B[0m\n\u001B[0;32m---> 26\u001B[0;31m         \u001B[0mvalues\u001B[0m \u001B[0;34m=\u001B[0m \u001B[0mnp\u001B[0m\u001B[0;34m.\u001B[0m\u001B[0msort\u001B[0m\u001B[0;34m(\u001B[0m\u001B[0;34m[\u001B[0m\u001B[0me\u001B[0m\u001B[0;34m.\u001B[0m\u001B[0mtensor\u001B[0m \u001B[0;32mfor\u001B[0m \u001B[0me\u001B[0m \u001B[0;32min\u001B[0m \u001B[0mevents\u001B[0m\u001B[0;34m]\u001B[0m\u001B[0;34m)\u001B[0m\u001B[0;34m\u001B[0m\u001B[0;34m\u001B[0m\u001B[0m\n\u001B[0m\u001B[1;32m     27\u001B[0m         \u001B[0mbasis_points\u001B[0m \u001B[0;34m=\u001B[0m \u001B[0mnp\u001B[0m\u001B[0;34m.\u001B[0m\u001B[0mpercentile\u001B[0m\u001B[0;34m(\u001B[0m\u001B[0mvalues\u001B[0m\u001B[0;34m,\u001B[0m \u001B[0mBASIS_POINTS\u001B[0m\u001B[0;34m)\u001B[0m\u001B[0;34m\u001B[0m\u001B[0;34m\u001B[0m\u001B[0m\n\u001B[1;32m     28\u001B[0m \u001B[0;34m\u001B[0m\u001B[0m\n",
      "\u001B[0;32m<__array_function__ internals>\u001B[0m in \u001B[0;36msort\u001B[0;34m(*args, **kwargs)\u001B[0m\n",
      "\u001B[0;32m~/opt/anaconda3/envs/dl3/lib/python3.7/site-packages/numpy/core/fromnumeric.py\u001B[0m in \u001B[0;36msort\u001B[0;34m(a, axis, kind, order)\u001B[0m\n\u001B[1;32m    987\u001B[0m     \u001B[0;32melse\u001B[0m\u001B[0;34m:\u001B[0m\u001B[0;34m\u001B[0m\u001B[0;34m\u001B[0m\u001B[0m\n\u001B[1;32m    988\u001B[0m         \u001B[0ma\u001B[0m \u001B[0;34m=\u001B[0m \u001B[0masanyarray\u001B[0m\u001B[0;34m(\u001B[0m\u001B[0ma\u001B[0m\u001B[0;34m)\u001B[0m\u001B[0;34m.\u001B[0m\u001B[0mcopy\u001B[0m\u001B[0;34m(\u001B[0m\u001B[0morder\u001B[0m\u001B[0;34m=\u001B[0m\u001B[0;34m\"K\"\u001B[0m\u001B[0;34m)\u001B[0m\u001B[0;34m\u001B[0m\u001B[0;34m\u001B[0m\u001B[0m\n\u001B[0;32m--> 989\u001B[0;31m     \u001B[0ma\u001B[0m\u001B[0;34m.\u001B[0m\u001B[0msort\u001B[0m\u001B[0;34m(\u001B[0m\u001B[0maxis\u001B[0m\u001B[0;34m=\u001B[0m\u001B[0maxis\u001B[0m\u001B[0;34m,\u001B[0m \u001B[0mkind\u001B[0m\u001B[0;34m=\u001B[0m\u001B[0mkind\u001B[0m\u001B[0;34m,\u001B[0m \u001B[0morder\u001B[0m\u001B[0;34m=\u001B[0m\u001B[0morder\u001B[0m\u001B[0;34m)\u001B[0m\u001B[0;34m\u001B[0m\u001B[0;34m\u001B[0m\u001B[0m\n\u001B[0m\u001B[1;32m    990\u001B[0m     \u001B[0;32mreturn\u001B[0m \u001B[0ma\u001B[0m\u001B[0;34m\u001B[0m\u001B[0;34m\u001B[0m\u001B[0m\n\u001B[1;32m    991\u001B[0m \u001B[0;34m\u001B[0m\u001B[0m\n",
      "\u001B[0;31mValueError\u001B[0m: The truth value of an array with more than one element is ambiguous. Use a.any() or a.all()"
     ]
    }
   ],
   "source": [
    "analytics.distribution(inds.train_loss)"
   ]
  },
  {
   "cell_type": "code",
   "execution_count": null,
   "metadata": {
    "pycharm": {
     "name": "#%%\n"
    }
   },
   "outputs": [],
   "source": []
  }
 ],
 "metadata": {
  "kernelspec": {
   "display_name": "Python 3",
   "language": "python",
   "name": "python3"
  },
  "language_info": {
   "codemirror_mode": {
    "name": "ipython",
    "version": 3
   },
   "file_extension": ".py",
   "mimetype": "text/x-python",
   "name": "python",
   "nbconvert_exporter": "python",
   "pygments_lexer": "ipython3",
   "version": "3.7.5"
  }
 },
 "nbformat": 4,
 "nbformat_minor": 2
}